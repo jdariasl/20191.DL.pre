{
 "cells": [
  {
   "cell_type": "code",
   "execution_count": 1,
   "metadata": {},
   "outputs": [
    {
     "data": {
      "text/html": [
       "<style>.container { width:100% !important; }</style>"
      ],
      "text/plain": [
       "<IPython.core.display.HTML object>"
      ]
     },
     "metadata": {},
     "output_type": "display_data"
    }
   ],
   "source": [
    "from IPython.core.display import display, HTML\n",
    "display(HTML(\"<style>.container { width:100% !important; }</style>\"))"
   ]
  },
  {
   "cell_type": "code",
   "execution_count": 2,
   "metadata": {},
   "outputs": [],
   "source": [
    "import numpy as np\n",
    "import matplotlib.pyplot as plt\n",
    "import pandas as pd\n",
    "from tensorflow import keras\n",
    "\n",
    "%matplotlib inline"
   ]
  },
  {
   "cell_type": "markdown",
   "metadata": {},
   "source": [
    "## Lab vanishing gradient\n",
    "\n",
    "\n",
    "In this lab you will impement a complete exploration and results visualization for the following experiment configurations  with dense neural networks:\n",
    "\n",
    "- with the following numbers of layers [2,3,4,5,6,7,8,9,10]\n",
    "- with the following neurons per layer [3,5,10,30]\n",
    "- with activations ReLU, Sigmoid and LeakyReLU\n",
    "\n",
    "In total, you must train and test 36 network architectures for each activation function.\n",
    "\n",
    "The experimentation must be done with the MNIST Digits datasets (1500 items) using a random partition of 50/50 for train and test.\n",
    "\n",
    "For each configuration you must record the **accuracy in test** and the **time used to train** the model.\n",
    "\n",
    "Then, you will need to build the following visualizations\n",
    "\n",
    "- one heat map for each activation function illustrating the **accuracy in test** for each configuration\n",
    "- one heat map for each activation function illustrating the **time used to train** for each configuration\n",
    "- a scatter plot of all your experiments, showing:\n",
    "    - the time used to train in the x-axis\n",
    "    - the accuracy in test in the y-axis\n",
    "    - the number of layers as the size of the dots\n",
    "    - expetiments for each activation function in different colors   \n",
    "- a bar plot showing the average performance of each activation function for each number of layers.\n",
    "\n",
    "\n"
   ]
  },
  {
   "cell_type": "markdown",
   "metadata": {},
   "source": [
    "Your visualizations must look similar to these ones:\n",
    "\n",
    "![alt text](./Images/lab_vanishing_01.png)\n",
    "![alt text](./Images/lab_vanishing_02.png)\n",
    "![alt text](./Images/lab_vanishing_03.png)\n",
    "![alt text](./Images/lab_vanishing_04.png)\n",
    "![alt text](./Images/lab_vanishing_05.png)\n"
   ]
  },
  {
   "cell_type": "code",
   "execution_count": null,
   "metadata": {},
   "outputs": [],
   "source": []
  }
 ],
 "metadata": {
  "kernelspec": {
   "display_name": "p37",
   "language": "python",
   "name": "python3"
  },
  "language_info": {
   "codemirror_mode": {
    "name": "ipython",
    "version": 3
   },
   "file_extension": ".py",
   "mimetype": "text/x-python",
   "name": "python",
   "nbconvert_exporter": "python",
   "pygments_lexer": "ipython3",
   "version": "3.7.3"
  }
 },
 "nbformat": 4,
 "nbformat_minor": 2
}
