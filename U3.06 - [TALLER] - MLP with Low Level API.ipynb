{
 "cells": [
  {
   "cell_type": "markdown",
   "metadata": {},
   "source": [
    "# TALLER: Multi Layer Perceptron\n",
    "\n",
    "Implementa una red neuronal de tres capas según la siguiente función de predicción.\n",
    "\n",
    "$$\\hat{y} = \\text{sigmoid} ( \\mathbf{W}_3 \\cdot \\tanh(\\mathbf{W}_2 \\cdot \\tanh(\\mathbf{x^T} \\cdot \\mathbf{W}_1 + \\mathbf{b}_1) + \\mathbf{b}_2) + b_3 )$$\n",
    "\n",
    "$$J(\\mathbf{b}_1, b_2, \\mathbf{W}_1, \\mathbf{W}_2) = \\frac{1}{m}\\sum_{i=0}^{m-1} (\\hat{y}-y)^2 $$\n",
    "\n",
    "observa que ahora tenemos dos tamaños para las dos capas escondidas. P.ej. si esos tamaños son 4 y 6 respectivamente, estas serían las dimensiones de los pesos:\n",
    "\n",
    "- $W_1$: (2, 4)\n",
    "- $W_2$: (4, 6)\n",
    "- $W_3$: (6, 1)\n",
    "- $b_1$: (4)\n",
    "- $b_2$: (6)\n",
    "- $b_3$: (1)\n"
   ]
  },
  {
   "cell_type": "code",
   "execution_count": 1,
   "metadata": {},
   "outputs": [
    {
     "name": "stdout",
     "output_type": "stream",
     "text": [
      "1.13.1\n"
     ]
    },
    {
     "data": {
      "image/png": "[encoded data removed]",
      "text/plain": [
       "<Figure size 432x288 with 1 Axes>"
      ]
     },
     "metadata": {
      "needs_background": "light"
     },
     "output_type": "display_data"
    }
   ],
   "source": [
    "import tensorflow as tf\n",
    "import numpy as np\n",
    "import matplotlib.pyplot as plt\n",
    "%matplotlib inline\n",
    "import pandas as pd\n",
    "print (tf.__version__)\n",
    "from sklearn.datasets import make_moons\n",
    "import mlutils\n",
    "X,y = make_moons(200,noise=.4)\n",
    "mlutils.plot_2Ddata(X,y)"
   ]
  },
  {
   "cell_type": "markdown",
   "metadata": {},
   "source": [
    "### Parámetros de entrada"
   ]
  },
  {
   "cell_type": "code",
   "execution_count": null,
   "metadata": {},
   "outputs": [],
   "source": [
    "input_units  = 2\n",
    "h_units_1    = 4\n",
    "h_units_2    = 6\n",
    "output_units = 1"
   ]
  },
  {
   "cell_type": "markdown",
   "metadata": {},
   "source": [
    "### Grafo computacional"
   ]
  },
  {
   "cell_type": "code",
   "execution_count": null,
   "metadata": {},
   "outputs": [],
   "source": [
    "tf.reset_default_graph()\n",
    "\n",
    "# symbolic vars for model parameters\n",
    "tW1 = ...\n",
    "tb1 = ...\n",
    "tW2 = ...\n",
    "tb2 = ...\n",
    "tW3 = ...\n",
    "tb3 = ...\n",
    "\n",
    "# symbolic vars for data\n",
    "tX = ...\n",
    "ty = ...\n"
   ]
  },
  {
   "cell_type": "code",
   "execution_count": null,
   "metadata": {},
   "outputs": [],
   "source": [
    "print tW1.shape\n",
    "print tW2.shape\n",
    "print tW3.shape\n",
    "print tb1.shape\n",
    "print tb2.shape\n",
    "print tb3.shape\n"
   ]
  },
  {
   "cell_type": "code",
   "execution_count": null,
   "metadata": {},
   "outputs": [],
   "source": [
    "y_hat = ...\n",
    "loss  = ..."
   ]
  },
  {
   "cell_type": "markdown",
   "metadata": {},
   "source": [
    "### Optimización"
   ]
  },
  {
   "cell_type": "code",
   "execution_count": null,
   "metadata": {},
   "outputs": [],
   "source": [
    "optimizer_gd = tf.train.GradientDescentOptimizer(.5).minimize(loss)\n",
    "\n",
    "init = tf.global_variables_initializer()\n",
    "\n",
    "loss_hist = []\n",
    "steps = 5000\n",
    "\n",
    "with tf.Session() as sess:\n",
    "    sess.run(init)\n",
    "    \n",
    "    for i in mlutils.pbar()(xrange(1,steps)):\n",
    "        # parameter update\n",
    "        sess.run(optimizer_gd, feed_dict={tX: X, ty: y.reshape(-1,1)})\n",
    "        # history\n",
    "        if i%10==0:\n",
    "            loss_val = sess.run(loss, feed_dict={tX: X, ty: y.reshape(-1,1)})\n",
    "            loss_hist.append(loss_val)\n",
    "        \n",
    "    val_W1, val_W2, val_W3, val_b1, val_b2, val_b3 = sess.run([tW1, tW2, tW3, tb1, tb2, tb3])"
   ]
  },
  {
   "cell_type": "code",
   "execution_count": null,
   "metadata": {},
   "outputs": [],
   "source": [
    "plt.plot(loss_hist)"
   ]
  },
  {
   "cell_type": "markdown",
   "metadata": {},
   "source": [
    "### Predicción\n",
    "\n",
    "your prediction boundary should look more complex than the single layer neural network seen in the notes. For instance (although not exacly like this):\n",
    "\n",
    "![AA](Images/lab_lowlevel_01.png)\n"
   ]
  },
  {
   "cell_type": "code",
   "execution_count": null,
   "metadata": {},
   "outputs": [],
   "source": [
    "def predict(X):\n",
    "    with tf.Session() as sess:\n",
    "        preds = sess.run(y_hat, feed_dict={tX: X,  \n",
    "                                           tW1: val_W1, tW2: val_W2, tW3: val_W3, \n",
    "                                           tb1: val_b1, tb2: val_b2, tb3: val_b3})\n",
    "    return (preds[:,0]>.5).astype(int)"
   ]
  },
  {
   "cell_type": "code",
   "execution_count": null,
   "metadata": {},
   "outputs": [],
   "source": [
    "mlutils.plot_2Ddata_with_boundary(predict, X, y)"
   ]
  },
  {
   "cell_type": "code",
   "execution_count": null,
   "metadata": {},
   "outputs": [],
   "source": []
  }
 ],
 "metadata": {
  "kernelspec": {
   "display_name": "p37",
   "language": "python",
   "name": "python3"
  },
  "language_info": {
   "codemirror_mode": {
    "name": "ipython",
    "version": 3
   },
   "file_extension": ".py",
   "mimetype": "text/x-python",
   "name": "python",
   "nbconvert_exporter": "python",
   "pygments_lexer": "ipython3",
   "version": "3.7.3"
  }
 },
 "nbformat": 4,
 "nbformat_minor": 2
}
