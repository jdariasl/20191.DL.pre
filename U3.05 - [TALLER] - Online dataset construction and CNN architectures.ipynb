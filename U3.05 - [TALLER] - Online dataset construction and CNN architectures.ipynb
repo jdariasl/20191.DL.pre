{
 "cells": [
  {
   "cell_type": "markdown",
   "metadata": {},
   "source": [
    "# Design an image classification experiment \n",
    "\n",
    "Use the code in the notebook on **Online dataset construction** to create an image classification experiment with two classes.\n",
    "\n",
    "You must:\n",
    "\n",
    "1. Define a Google images query pair to generate your annotated dataset. Some suggestions (**WARN:** do not use blanks in your queries, use underscores instead)\n",
    "\n",
    "    - plant/tree\n",
    "    - nature/city\n",
    "    - futbol/baloncesto\n",
    "    - doritos/detodito\n",
    "    - people_with_glasses/portrait\n",
    "    \n",
    "\n",
    "2. Define 3 or 4 CNN architectures with increasing complexity. You must select a query pair so that as you increase CNN complexity classification accuracy improves. Suggestions for variations for tour experiment:\n",
    "\n",
    "    - images 64x64 or 128x128 resolution.\n",
    "    - increase the number of images.\n",
    "    - increase layers (convolutional and/or dense).\n",
    "    - add pooling if your network becomes too large or you see overfitting.\n",
    "    - increase dropout among layers if you see overfitting.\n",
    "\n",
    "\n",
    "**IN YOUR EXPERIMENT THERE MUST BE AN EVIDENCE OF ACCURACY IMPROVEMENT IN TEST DATA AS YOU INCREASE THE COMPLEXITY OF YOUR CNN ARCHITECTURE**. For this, you will need to iterate several times until you select an appropriate Google images query pair so that the visual classification task beholds the appropriate complexity.\n"
   ]
  },
  {
   "cell_type": "code",
   "execution_count": null,
   "metadata": {},
   "outputs": [],
   "source": [
    ".. COPY, PASTE AND ADJUST CODE FROM ONLINE DATASET CONSTRUCTION NOTEBOOK ..."
   ]
  },
  {
   "cell_type": "markdown",
   "metadata": {},
   "source": [
    "## THIS NOTEBOOK MUST BE SELF CONTAINED\n",
    "\n",
    "include all code to download and prepare images, together with your network models and training"
   ]
  },
  {
   "cell_type": "code",
   "execution_count": null,
   "metadata": {},
   "outputs": [],
   "source": []
  }
 ],
 "metadata": {
  "kernelspec": {
   "display_name": "p37",
   "language": "python",
   "name": "python3"
  },
  "language_info": {
   "codemirror_mode": {
    "name": "ipython",
    "version": 2
   },
   "file_extension": ".py",
   "mimetype": "text/x-python",
   "name": "python",
   "nbconvert_exporter": "python",
   "pygments_lexer": "ipython2",
   "version": "2.7.15"
  }
 },
 "nbformat": 4,
 "nbformat_minor": 2
}
