{
 "cells": [
  {
   "cell_type": "markdown",
   "metadata": {},
   "source": [
    "# Text processing"
   ]
  },
  {
   "cell_type": "code",
   "execution_count": 1,
   "metadata": {},
   "outputs": [],
   "source": [
    "import numpy as np\n",
    "import matplotlib.pyplot as plt\n",
    "%matplotlib inline"
   ]
  },
  {
   "cell_type": "markdown",
   "metadata": {},
   "source": [
    "There exists several applications that require the processing of text, e.g. machine translation, sentiment analysis, semantic word similarity, part of speech tagging, to name just a few. However, in order to solve those problems, the text needs to be transformed into something that can be understood by the models. In the following some of the basic preprocessing steps that must be applied to text are going to be presented."
   ]
  },
  {
   "cell_type": "markdown",
   "metadata": {},
   "source": [
    "Natural Language Toolkit\n",
    "https://www.nltk.org/index.html\n",
    "\n",
    "NLTK is a platform for building Python programs to work with human language data. It provides easy-to-use interfaces to over 50 corpora and lexical resources such as WordNet, along with a suite of text processing libraries for classification, tokenization, stemming, tagging, parsing, and semantic reasoning."
   ]
  },
  {
   "cell_type": "markdown",
   "metadata": {},
   "source": [
    "## Tokenization"
   ]
  },
  {
   "cell_type": "markdown",
   "metadata": {},
   "source": [
    "This process assigns a unique number to every word (or character) in the dataset. Tokenization requires to set up the maximum number of fatures or words to be included in the tokenizer.  "
   ]
  },
  {
   "cell_type": "code",
   "execution_count": 2,
   "metadata": {},
   "outputs": [
    {
     "data": {
      "text/plain": [
       "['ejemplo', 'de', 'texto', 'a', 'ser', 'procesado']"
      ]
     },
     "execution_count": 2,
     "metadata": {},
     "output_type": "execute_result"
    }
   ],
   "source": [
    "from __future__ import division\n",
    "from nltk import word_tokenize \n",
    "\n",
    "text = 'ejemplo de texto a ser procesado'\n",
    "word_tokenize(text)"
   ]
  },
  {
   "cell_type": "code",
   "execution_count": 5,
   "metadata": {},
   "outputs": [
    {
     "name": "stderr",
     "output_type": "stream",
     "text": [
      "Using TensorFlow backend.\n"
     ]
    },
    {
     "name": "stdout",
     "output_type": "stream",
     "text": [
      "['ejemplo de texto a ser procesado']\n",
      "[[1, 2, 3, 4, 5, 6]]\n"
     ]
    }
   ],
   "source": [
    "from keras.preprocessing.text import Tokenizer\n",
    "\n",
    "max_fatures = 8\n",
    "tokenizer = Tokenizer(num_words=max_fatures, split=' ')\n",
    "tokenizer.fit_on_texts([text])\n",
    "X = tokenizer.texts_to_sequences([text])\n",
    "print[text]\n",
    "print(X)"
   ]
  },
  {
   "cell_type": "code",
   "execution_count": 6,
   "metadata": {},
   "outputs": [
    {
     "data": {
      "text/plain": [
       "{'a': 4, 'de': 2, 'ejemplo': 1, 'procesado': 6, 'ser': 5, 'texto': 3}"
      ]
     },
     "execution_count": 6,
     "metadata": {},
     "output_type": "execute_result"
    }
   ],
   "source": [
    "#Dictionary\n",
    "tokenizer.word_index"
   ]
  },
  {
   "cell_type": "markdown",
   "metadata": {},
   "source": [
    "If there are more unique words in the text than **num_words**, only the most frequent ones are given a unique token."
   ]
  },
  {
   "cell_type": "markdown",
   "metadata": {},
   "source": [
    "## Depending on the task, it may be necessary to eliminate some words such as prepositions"
   ]
  },
  {
   "cell_type": "code",
   "execution_count": 3,
   "metadata": {},
   "outputs": [],
   "source": [
    "import nltk\n",
    "stopwords = nltk.corpus.stopwords.words('spanish')"
   ]
  },
  {
   "cell_type": "code",
   "execution_count": 10,
   "metadata": {},
   "outputs": [
    {
     "name": "stdout",
     "output_type": "stream",
     "text": [
      "['ejemplo', 'texto', 'ser', 'procesado']\n"
     ]
    }
   ],
   "source": [
    "def tokenize_only(text):\n",
    "    # first tokenize by sentence, then by word to ensure that punctuation is caught as it's own token\n",
    "    tokens = [word.lower() for word in nltk.word_tokenize(text) if word not in stopwords]\n",
    "    return tokens\n",
    "print(tokenize_only(text))"
   ]
  },
  {
   "cell_type": "markdown",
   "metadata": {},
   "source": [
    "## Bag of words"
   ]
  },
  {
   "cell_type": "markdown",
   "metadata": {},
   "source": [
    "The most basic representation of the words is based on a One-hot encoding of the tokenized text. In other words, every word is represented as a vector of 0's and only one '1' in the position given by the index assigned during tokenization. The length of the vector corresponds to the parameter **num_words**, which is the size of the dictionary. "
   ]
  },
  {
   "cell_type": "markdown",
   "metadata": {},
   "source": [
    "# Document representations"
   ]
  },
  {
   "cell_type": "markdown",
   "metadata": {},
   "source": [
    "Based on a bag of words representation a whole paragraph or document could be codified as a vector of num_words positions, where the position $i$ accounts for the number of times that the word $i$ appeared in the text. Usually, such vector is normalized with respecto the number of words in the text, this is call *term-frecuency* representation. However, it is more common to use the tf-idf representetation."
   ]
  },
  {
   "cell_type": "markdown",
   "metadata": {},
   "source": [
    "## tf-idf representation"
   ]
  },
  {
   "cell_type": "markdown",
   "metadata": {},
   "source": [
    "This stands for term frequency and inverse document frequency. The tf-idf weighting scheme assigns to term $t$ a weight in document $d$ given by\n",
    "\n",
    "$$\n",
    "\\mbox{tf-idf}_{t,d} = \\mbox{tf}_{t,d} \\times \\mbox{idf}_t.$$"
   ]
  },
  {
   "cell_type": "markdown",
   "metadata": {},
   "source": [
    "**Term Frequency (tf)**: gives us the frequency of the word in each document in the corpus. It is the ratio of number of times the word appears in a document compared to the total number of words in that document. It increases as the number of occurrences of that word within the document increases. Each document has its own tf.\n",
    "\n",
    "$$\\mbox{tf}_{t,d} = \\frac{n_{t,d}}{\\sum_k n_{k,d}} $$\n",
    "\n",
    "**Inverse Data Frequency (idf)**: used to calculate the weight of rare words across all documents in the corpus. The words that occur rarely in the corpus have a high IDF score. It is given by the equation below.\n",
    "\n",
    "$$\\mbox{idf}_{t} = \\log\\left(\\frac{N}{df_t}\\right) + 1; \\; df_t = \\text{number of documents contaning } t $$"
   ]
  },
  {
   "cell_type": "markdown",
   "metadata": {},
   "source": [
    "In other words, $\\mbox{tf-idf}_{t,d}$ assigns to term $t$ a weight in document $d$ that is\n",
    "\n",
    "- highest when $t$ occurs many times within a small number of documents (thus lending high discriminating power to those documents);\n",
    "- lower when the term occurs fewer times in a document, or occurs in many documents (thus offering a less pronounced relevance signal);\n",
    "\n",
    "- lowest when the term occurs in virtually all documents."
   ]
  },
  {
   "cell_type": "code",
   "execution_count": 11,
   "metadata": {},
   "outputs": [
    {
     "name": "stdout",
     "output_type": "stream",
     "text": [
      "CPU times: user 70.9 ms, sys: 573 µs, total: 71.4 ms\n",
      "Wall time: 67.7 ms\n",
      "(3, 25)\n",
      "  (0, 3)\t0.3414262179382391\n",
      "  (0, 22)\t0.3414262179382391\n",
      "  (0, 16)\t0.2596634391575384\n",
      "  (0, 12)\t0.3414262179382391\n",
      "  (0, 4)\t0.3414262179382391\n",
      "  (0, 23)\t0.3414262179382391\n",
      "  (0, 18)\t0.3414262179382391\n",
      "  (0, 5)\t0.3414262179382391\n",
      "  (0, 24)\t0.3414262179382391\n",
      "  (1, 16)\t0.2662895107233706\n",
      "  (1, 6)\t0.2662895107233706\n",
      "  (1, 13)\t0.3501387057719138\n",
      "  (1, 0)\t0.3501387057719138\n",
      "  (1, 7)\t0.3501387057719138\n",
      "  (1, 14)\t0.3501387057719138\n",
      "  (1, 17)\t0.3501387057719138\n",
      "  (1, 8)\t0.3501387057719138\n",
      "  (1, 15)\t0.3501387057719138\n",
      "  (2, 6)\t0.2596634391575384\n",
      "  (2, 19)\t0.3414262179382391\n",
      "  (2, 9)\t0.3414262179382391\n",
      "  (2, 1)\t0.3414262179382391\n",
      "  (2, 20)\t0.3414262179382391\n",
      "  (2, 10)\t0.3414262179382391\n",
      "  (2, 2)\t0.3414262179382391\n",
      "  (2, 21)\t0.3414262179382391\n",
      "  (2, 11)\t0.3414262179382391\n"
     ]
    }
   ],
   "source": [
    "from sklearn.feature_extraction.text import TfidfVectorizer\n",
    "\n",
    "synopses = []\n",
    "synopses.append('ejemplo de texto a ser procesado')\n",
    "synopses.append('algunos ejemplos puenden ser más complejos')\n",
    "synopses.append('No se si sea posible dar algunos ejemplos')\n",
    "\n",
    "\n",
    "#define vectorizer parameters\n",
    "tfidf_vectorizer = TfidfVectorizer(max_df=0.9, max_features=200,\n",
    "                                 min_df=0.1, stop_words=stopwords,\n",
    "                                 use_idf=True, tokenizer= word_tokenize, ngram_range=(1,3))\n",
    "\n",
    "%time tfidf_matrix = tfidf_vectorizer.fit_transform(synopses) #fit the vectorizer to synopses\n",
    "\n",
    "print(tfidf_matrix.shape)\n",
    "print(tfidf_matrix)"
   ]
  },
  {
   "cell_type": "code",
   "execution_count": 68,
   "metadata": {},
   "outputs": [
    {
     "name": "stdout",
     "output_type": "stream",
     "text": [
      "{u'posible dar ejemplos': 1.6931471805599454, u'puenden': 1.6931471805599454, u'ejemplo texto': 1.6931471805599454, u'ser': 1.2876820724517808, u'ejemplo': 1.6931471805599454, u'ejemplos': 1.2876820724517808, u'posible dar': 1.6931471805599454, u'ser complejos': 1.6931471805599454, u'puenden ser complejos': 1.6931471805599454, u'ejemplos puenden': 1.6931471805599454, u'ejemplo texto ser': 1.6931471805599454, u'dar ejemplos': 1.6931471805599454, u'texto ser procesado': 1.6931471805599454, u'texto': 1.6931471805599454, u'dar': 1.6931471805599454, u'posible': 1.6931471805599454, u'puenden ser': 1.6931471805599454, u'si posible dar': 1.6931471805599454, u'texto ser': 1.6931471805599454, u'complejos': 1.6931471805599454, u'si': 1.6931471805599454, u'si posible': 1.6931471805599454, u'ejemplos puenden ser': 1.6931471805599454, u'ser procesado': 1.6931471805599454, u'procesado': 1.6931471805599454}\n"
     ]
    }
   ],
   "source": [
    "print dict(zip(tfidf_vectorizer.get_feature_names(), tfidf_vectorizer.idf_))"
   ]
  },
  {
   "cell_type": "code",
   "execution_count": 69,
   "metadata": {},
   "outputs": [
    {
     "name": "stdout",
     "output_type": "stream",
     "text": [
      "CPU times: user 1.57 ms, sys: 616 µs, total: 2.19 ms\n",
      "Wall time: 2.61 ms\n",
      "(3, 16)\n"
     ]
    }
   ],
   "source": [
    "from sklearn.feature_extraction.text import CountVectorizer\n",
    "\n",
    "#define vectorizer parameters\n",
    "count_vectorizer = CountVectorizer(max_df=0.9, max_features=200,\n",
    "                                 min_df=0.1)\n",
    "\n",
    "%time count_matrix = count_vectorizer.fit_transform(synopses) #fit the vectorizer to synopses\n",
    "\n",
    "print(count_matrix.shape)"
   ]
  },
  {
   "cell_type": "markdown",
   "metadata": {},
   "source": [
    "This provides a matrix with a row per document and a column per word in the dictionary. The position [$i$, $j$] corresponds to the number of times the word $j$ appeared in the document $i$.  "
   ]
  },
  {
   "cell_type": "markdown",
   "metadata": {},
   "source": [
    "## Co-ocurrence matrix"
   ]
  },
  {
   "cell_type": "markdown",
   "metadata": {},
   "source": [
    "# Word embeddings"
   ]
  },
  {
   "cell_type": "markdown",
   "metadata": {},
   "source": [
    "## word2vec"
   ]
  },
  {
   "cell_type": "markdown",
   "metadata": {},
   "source": [
    "There exist several alternatives to represent the words in a different way. In most of the cases, those techniques try to take advantage on the semantic similarity of the words. Such similarity can be sintacmatic or paradigmatic. Paradigmatic similarity refers to the interchange of words. On the other hand, sintacmatic similarity refers to co-ocurrence.\n",
    "\n",
    "Two of the most used techniques are based on Neural Network representations:\n",
    "\n",
    "- **skip-gram** model: This architecture is designed to predict the context given a word\n",
    "\n",
    "- **Continuous Bag of Words (CBOW)**: The CBOW model architecture tries to predict the current target word (the center word) based on the source context words (surrounding words).\n",
    "\n",
    "According to Mikolov (https://arxiv.org/pdf/1310.4546.pdf):\n",
    "\n",
    "Skip-gram: works well with small amount of the training data, represents well even rare words or phrases.\n",
    "\n",
    "CBOW: several times faster to train than the skip-gram, slightly better accuracy for the frequent words"
   ]
  },
  {
   "cell_type": "markdown",
   "metadata": {},
   "source": [
    "![alt text](./Images/word2vec.png \"skipgram\")"
   ]
  },
  {
   "cell_type": "markdown",
   "metadata": {},
   "source": [
    "One of the problems with word2vec architecture is the large number of outputs, which increases a lot the computational cost. In order to tackle this problem, there are two approaches:\n",
    "\n",
    "- **Hierarchical softmax**: This use a binary tree to represent the probabilities of the words at the output layer an reduces the computational cost logarithmically. The output layer is replaced by sigmoid functions representing the decision in every node of the tree.\n",
    "\n",
    "https://www.iro.umontreal.ca/~lisa/pointeurs/hierarchical-nnlm-aistats05.pdf\n",
    "\n",
    "\n",
    "- **Negative sampling**: Negative sampling addresses the computational problem by having each training sample only modify a small percentage of the weights, rather than all of them. \n",
    "\n",
    "https://arxiv.org/pdf/1310.4546.pdf"
   ]
  },
  {
   "cell_type": "code",
   "execution_count": 4,
   "metadata": {},
   "outputs": [],
   "source": [
    "import bs4 as bs  \n",
    "import urllib\n",
    "import re  \n",
    "import nltk\n",
    "\n",
    "scrapped_data = urllib.urlopen('https://en.wikipedia.org/wiki/Artificial_intelligence')  \n",
    "article = scrapped_data .read()\n",
    "\n",
    "parsed_article = bs.BeautifulSoup(article,'lxml')\n",
    "\n",
    "paragraphs = parsed_article.find_all('p')\n",
    "\n",
    "article_text = \"\"\n",
    "\n",
    "for p in paragraphs:  \n",
    "    article_text += p.text"
   ]
  },
  {
   "cell_type": "code",
   "execution_count": 5,
   "metadata": {},
   "outputs": [],
   "source": [
    "# Cleaing the text\n",
    "processed_article = article_text.lower()  \n",
    "processed_article = re.sub('[^a-zA-Z]', ' ', processed_article )  \n",
    "processed_article = re.sub(r'\\s+', ' ', processed_article)\n",
    "\n",
    "# Preparing the dataset\n",
    "all_sentences = nltk.sent_tokenize(processed_article)\n",
    "\n",
    "all_words = [nltk.word_tokenize(sent) for sent in all_sentences]\n",
    "\n",
    "# Removing Stop Words\n",
    "from nltk.corpus import stopwords\n",
    "for i in range(len(all_words)):  \n",
    "    all_words[i] = [w for w in all_words[i] if w not in stopwords.words('english')]"
   ]
  },
  {
   "cell_type": "code",
   "execution_count": 6,
   "metadata": {},
   "outputs": [],
   "source": [
    "TerminosDeInteres = ['ai','artificial','intelligence', 'statistics', 'economics', 'mathematics','data', 'scientific', 'reinforcement','learning','mining','processing']\n",
    "from sklearn.feature_extraction.text import CountVectorizer\n",
    "\n",
    "#define vectorizer parameters\n",
    "count_vectorizer = CountVectorizer(max_df=0.9, max_features=200000,\n",
    "                                 min_df=0.1, vocabulary = TerminosDeInteres)\n",
    "\n",
    "count_matrix = count_vectorizer.fit_transform(all_sentences) #fit the vectorizer to synopses"
   ]
  },
  {
   "cell_type": "code",
   "execution_count": 18,
   "metadata": {},
   "outputs": [
    {
     "data": {
      "text/plain": [
       "65"
      ]
     },
     "execution_count": 18,
     "metadata": {},
     "output_type": "execute_result"
    }
   ],
   "source": [
    "count_matrix[0,1]"
   ]
  },
  {
   "cell_type": "markdown",
   "metadata": {},
   "source": [
    "## CBOW"
   ]
  },
  {
   "cell_type": "code",
   "execution_count": 7,
   "metadata": {},
   "outputs": [],
   "source": [
    "from gensim.sklearn_api import W2VTransformer\n",
    "# Create a model to represent each word by a 10 dimensional vector.\n",
    "model = W2VTransformer(size=10, window = 6, min_count=1, seed=1, sg = 1, hs=1, iter = 10)"
   ]
  },
  {
   "cell_type": "code",
   "execution_count": 8,
   "metadata": {},
   "outputs": [],
   "source": [
    "TerminosDeInteres = ['ai','artificial','intelligence', 'statistics', 'economics', 'mathematics','data', 'scientific', 'reinforcement','learning','mining','processing']\n",
    "wordvecs = model.fit(all_words).transform(TerminosDeInteres)"
   ]
  },
  {
   "cell_type": "code",
   "execution_count": 9,
   "metadata": {},
   "outputs": [],
   "source": [
    "terms = count_vectorizer.get_feature_names()\n",
    "Nt = len(TerminosDeInteres)\n",
    "CountTerminosDeInteres = np.zeros(Nt)\n",
    "for i in range(Nt):\n",
    "    indx = terms.index(TerminosDeInteres[i])\n",
    "    CountTerminosDeInteres[i] = count_matrix[:,indx].sum()"
   ]
  },
  {
   "cell_type": "code",
   "execution_count": 10,
   "metadata": {},
   "outputs": [
    {
     "data": {
      "image/png": "[encoded data removed]",
      "text/plain": [
       "<Figure size 864x864 with 1 Axes>"
      ]
     },
     "metadata": {},
     "output_type": "display_data"
    }
   ],
   "source": [
    "from sklearn.manifold import MDS\n",
    "embedding = MDS(n_components=2)\n",
    "X_embedded = embedding.fit_transform(wordvecs)\n",
    "fig, ax = plt.subplots(figsize=(12,12))\n",
    "ax.scatter(X_embedded[:,0], X_embedded[:,1], s=CountTerminosDeInteres, alpha=0.3)\n",
    "\n",
    "for i, txt in enumerate(TerminosDeInteres):\n",
    "    ax.annotate(txt, (X_embedded[i,0], X_embedded[i,1]))"
   ]
  },
  {
   "cell_type": "code",
   "execution_count": 29,
   "metadata": {},
   "outputs": [
    {
     "data": {
      "text/plain": [
       "(71093, 76120)"
      ]
     },
     "execution_count": 29,
     "metadata": {},
     "output_type": "execute_result"
    }
   ],
   "source": [
    "#otra aproximación posible\n",
    "from gensim.models import Word2Vec\n",
    "model2 = Word2Vec(\n",
    "        all_words,\n",
    "        size=10,\n",
    "        window=6,\n",
    "        min_count=1,\n",
    "        workers=10)\n",
    "model2.train(all_words, total_examples=len(all_words), epochs=10)"
   ]
  },
  {
   "cell_type": "code",
   "execution_count": 30,
   "metadata": {},
   "outputs": [
    {
     "data": {
      "text/plain": [
       "[(u'artificial', 0.999434769153595),\n",
       " (u'machines', 0.9993200898170471),\n",
       " (u'system', 0.9993115663528442),\n",
       " (u'ai', 0.9992674589157104),\n",
       " (u'computer', 0.9992370009422302),\n",
       " (u'researchers', 0.9992085099220276)]"
      ]
     },
     "execution_count": 30,
     "metadata": {},
     "output_type": "execute_result"
    }
   ],
   "source": [
    "model2.wv.most_similar(positive=['intelligence'],topn=6)"
   ]
  },
  {
   "cell_type": "markdown",
   "metadata": {},
   "source": [
    "## Skip-gram"
   ]
  },
  {
   "cell_type": "code",
   "execution_count": 31,
   "metadata": {},
   "outputs": [
    {
     "data": {
      "text/plain": [
       "(71093, 76120)"
      ]
     },
     "execution_count": 31,
     "metadata": {},
     "output_type": "execute_result"
    }
   ],
   "source": [
    "#otra aproximación posible\n",
    "from gensim.models import Word2Vec\n",
    "model2 = Word2Vec(\n",
    "        all_words,\n",
    "        size=10,\n",
    "        window=6,\n",
    "        min_count=1,\n",
    "        sg= 1, #1 for skip-gram; otherwise CBOW\n",
    "        workers=10)\n",
    "model2.train(all_words, total_examples=len(all_words), epochs=10)"
   ]
  },
  {
   "cell_type": "code",
   "execution_count": 32,
   "metadata": {},
   "outputs": [
    {
     "data": {
      "text/plain": [
       "[(u'machines', 0.9831738471984863),\n",
       " (u'beings', 0.978954017162323),\n",
       " (u'processing', 0.9764113426208496),\n",
       " (u'general', 0.9747872948646545),\n",
       " (u'science', 0.9746779203414917),\n",
       " (u'could', 0.97337406873703)]"
      ]
     },
     "execution_count": 32,
     "metadata": {},
     "output_type": "execute_result"
    }
   ],
   "source": [
    "It almodel2.wv.most_similar(positive=['intelligence'],topn=6)"
   ]
  },
  {
   "cell_type": "markdown",
   "metadata": {},
   "source": [
    "It also have options for hierarchical softmax or negative sampling:\n",
    "\n",
    "\n",
    "- **hs** ({0, 1}, optional) – If 1, hierarchical softmax will be used for model training. If 0, and negative is non-zero, negative sampling will be used.\n",
    "- **negative** (int, optional) – If > 0, negative sampling will be used, the int for negative specifies how many “noise words” should be drawn (usually between 5-20). If set to 0, no negative sampling is used."
   ]
  },
  {
   "cell_type": "markdown",
   "metadata": {},
   "source": [
    "### There are other two widely used representations based on Matrix factorization:\n",
    "\n",
    "These methods utilize low-rank approximations to decompose large matrices that\n",
    "capture statistical information about a corpus. That means that this methods are unsupervised in comparison to skip-gram and CBOW that are supervised.\n",
    "\n",
    "- **Latent Semantic Analysis**: Based on tf-idf representation http://lsa.colorado.edu/papers/dp1.LSAintro.pdf\n",
    "\n",
    "- **Global vectos (GoVe)**: Based on the co-occurrence matrix https://nlp.stanford.edu/pubs/glove.pdf"
   ]
  },
  {
   "cell_type": "markdown",
   "metadata": {},
   "source": [
    "## GloVe"
   ]
  },
  {
   "cell_type": "code",
   "execution_count": 5,
   "metadata": {},
   "outputs": [
    {
     "name": "stdout",
     "output_type": "stream",
     "text": [
      "Performing 50 training epochs with 4 threads\n",
      "Epoch 0\n",
      "Epoch 1\n",
      "Epoch 2\n",
      "Epoch 3\n",
      "Epoch 4\n",
      "Epoch 5\n",
      "Epoch 6\n",
      "Epoch 7\n",
      "Epoch 8\n",
      "Epoch 9\n",
      "Epoch 10\n",
      "Epoch 11\n",
      "Epoch 12\n",
      "Epoch 13\n",
      "Epoch 14\n",
      "Epoch 15\n",
      "Epoch 16\n",
      "Epoch 17\n",
      "Epoch 18\n",
      "Epoch 19\n",
      "Epoch 20\n",
      "Epoch 21\n",
      "Epoch 22\n",
      "Epoch 23\n",
      "Epoch 24\n",
      "Epoch 25\n",
      "Epoch 26\n",
      "Epoch 27\n",
      "Epoch 28\n",
      "Epoch 29\n",
      "Epoch 30\n",
      "Epoch 31\n",
      "Epoch 32\n",
      "Epoch 33\n",
      "Epoch 34\n",
      "Epoch 35\n",
      "Epoch 36\n",
      "Epoch 37\n",
      "Epoch 38\n",
      "Epoch 39\n",
      "Epoch 40\n",
      "Epoch 41\n",
      "Epoch 42\n",
      "Epoch 43\n",
      "Epoch 44\n",
      "Epoch 45\n",
      "Epoch 46\n",
      "Epoch 47\n",
      "Epoch 48\n",
      "Epoch 49\n"
     ]
    },
    {
     "data": {
      "text/plain": [
       "[(u'expensive', 0.9999943256553985),\n",
       " (u'carl', 0.9999932942641124),\n",
       " (u'economists', 0.9999797448176789),\n",
       " (u'many', 0.9999756264879281)]"
      ]
     },
     "execution_count": 5,
     "metadata": {},
     "output_type": "execute_result"
    }
   ],
   "source": [
    "import itertools\n",
    "from gensim.models.word2vec import Text8Corpus\n",
    "from glove import Corpus, Glove\n",
    "#sentences = list(itertools.islice(Text8Corpus('text8'),None))\n",
    "corpus = Corpus()\n",
    "corpus.fit(all_words, window=10)\n",
    "glove = Glove(no_components=2, learning_rate=0.05)\n",
    "glove.fit(corpus.matrix, epochs=50, no_threads=4, verbose=True)\n",
    "glove.add_dictionary(corpus.dictionary)\n",
    "glove.most_similar('intelligence')"
   ]
  },
  {
   "cell_type": "code",
   "execution_count": 11,
   "metadata": {},
   "outputs": [
    {
     "data": {
      "image/png": "[encoded data removed]",
      "text/plain": [
       "<Figure size 864x864 with 1 Axes>"
      ]
     },
     "metadata": {},
     "output_type": "display_data"
    }
   ],
   "source": [
    "Nterm = len(TerminosDeInteres)\n",
    "indice = np.zeros(Nterm, dtype=int)\n",
    "for i in range(Nterm):\n",
    "    indice[i] = corpus.dictionary.get(TerminosDeInteres[i])\n",
    "wordembedding = glove.word_vectors[indice,:]\n",
    "\n",
    "fig, ax = plt.subplots(figsize=(12,12))\n",
    "ax.scatter(wordembedding[:,0], wordembedding[:,1], s=CountTerminosDeInteres, alpha=0.3)\n",
    "\n",
    "for i, txt in enumerate(TerminosDeInteres):\n",
    "    ax.annotate(txt, (wordembedding[i,0], wordembedding[i,1]))"
   ]
  },
  {
   "cell_type": "markdown",
   "metadata": {},
   "source": [
    "## Latent semantic analisys"
   ]
  },
  {
   "cell_type": "code",
   "execution_count": 12,
   "metadata": {},
   "outputs": [],
   "source": [
    "from gensim import corpora\n",
    "def prepare_corpus(doc_clean):\n",
    "    \"\"\"\n",
    "    Input  : clean document\n",
    "    Purpose: create term dictionary of our courpus and Converting list of documents (corpus) into Document Term Matrix\n",
    "    Output : term dictionary and Document Term Matrix\n",
    "    \"\"\"\n",
    "    # Creating the term dictionary of our courpus, where every unique term is assigned an index. dictionary = corpora.Dictionary(doc_clean)\n",
    "    dictionary = corpora.Dictionary(doc_clean)\n",
    "    # Converting list of documents (corpus) into Document Term Matrix using dictionary prepared above.\n",
    "    doc_term_matrix = [dictionary.doc2bow(doc) for doc in doc_clean]\n",
    "    # generate LDA model\n",
    "    return dictionary,doc_term_matrix"
   ]
  },
  {
   "cell_type": "code",
   "execution_count": 13,
   "metadata": {},
   "outputs": [],
   "source": [
    "dictionary,doc_term_matrix = prepare_corpus(all_words)"
   ]
  },
  {
   "cell_type": "code",
   "execution_count": 14,
   "metadata": {},
   "outputs": [],
   "source": [
    "#from gensim.test.utils import common_dictionary, common_corpus\n",
    "from gensim.models import LsiModel\n",
    "num_topics = 20\n",
    "model = LsiModel(doc_term_matrix, id2word=dictionary, num_topics = num_topics)\n",
    "#vectorized_corpus = model[common_corpus]  # vectorize input copus in BoW format"
   ]
  },
  {
   "cell_type": "markdown",
   "metadata": {},
   "source": [
    "This technique is able to find similarities between word, sentences, or documents."
   ]
  },
  {
   "cell_type": "code",
   "execution_count": 15,
   "metadata": {},
   "outputs": [],
   "source": [
    "num_topics = 20\n",
    "indices = dictionary.doc2idx(TerminosDeInteres)\n",
    "vec_bow1 = []\n",
    "for i in range(len(TerminosDeInteres)):\n",
    "    vec_bow1.append(dictionary.doc2bow([TerminosDeInteres[i]]))\n",
    "wordembedding=model[vec_bow1]\n",
    "wordvecs = np.zeros((len(TerminosDeInteres),num_topics))\n",
    "for i in range(len(TerminosDeInteres)):\n",
    "    wordvecs[i,:] = np.asarray(wordembedding[i])[:,1].transpose()"
   ]
  },
  {
   "cell_type": "code",
   "execution_count": 16,
   "metadata": {},
   "outputs": [
    {
     "data": {
      "image/png": "[encoded data removed]",
      "text/plain": [
       "<Figure size 720x720 with 1 Axes>"
      ]
     },
     "metadata": {},
     "output_type": "display_data"
    }
   ],
   "source": [
    "from sklearn.manifold import MDS\n",
    "embedding = MDS(n_components=2)\n",
    "X_embedded = embedding.fit_transform(wordvecs)\n",
    "fig, ax = plt.subplots(figsize=(10,10))\n",
    "ax.scatter(X_embedded[:,0], X_embedded[:,1])\n",
    "\n",
    "for i, txt in enumerate(TerminosDeInteres):\n",
    "    ax.annotate(txt, (X_embedded[i,0], X_embedded[i,1]))"
   ]
  },
  {
   "cell_type": "markdown",
   "metadata": {},
   "source": [
    "## Keras Embedding"
   ]
  },
  {
   "cell_type": "code",
   "execution_count": 6,
   "metadata": {},
   "outputs": [
    {
     "name": "stdout",
     "output_type": "stream",
     "text": [
      "WARNING:tensorflow:From /home/julian/.local/lib/python2.7/site-packages/tensorflow/python/framework/op_def_library.py:263: colocate_with (from tensorflow.python.framework.ops) is deprecated and will be removed in a future version.\n",
      "Instructions for updating:\n",
      "Colocations handled automatically by placer.\n",
      "[[[ 0.02243595 -0.0379532  -0.01365095  0.02538452]\n",
      "  [ 0.00805538 -0.02397149 -0.00434388 -0.03309058]\n",
      "  [ 0.01975426 -0.01678277  0.03988932 -0.03444374]]]\n"
     ]
    }
   ],
   "source": [
    "from keras.models import Sequential\n",
    "from keras.layers import Embedding\n",
    "model = Sequential()\n",
    "model.add(Embedding(input_dim=1000, output_dim = 4, input_length=3))\n",
    "model.compile(optimizer = 'adam', loss='mse')\n",
    "print(model.predict(np.array([[4,8,3]])))"
   ]
  },
  {
   "cell_type": "markdown",
   "metadata": {},
   "source": [
    "The embedding weights can be replaced by pretrained word2vec weights and used into the the network:"
   ]
  },
  {
   "cell_type": "code",
   "execution_count": 11,
   "metadata": {},
   "outputs": [
    {
     "name": "stdout",
     "output_type": "stream",
     "text": [
      "[[[ 0.15914138 -1.8353431  -0.36946926 -0.35720432]\n",
      "  [-1.8984413  -0.08630996  0.9512541  -1.8222396 ]\n",
      "  [ 0.9729543  -0.6496893  -0.70948315 -1.4426557 ]]]\n"
     ]
    }
   ],
   "source": [
    "from keras.models import Model\n",
    "from keras.layers import Input\n",
    "inputs = Input(shape=(3,))\n",
    "e = Embedding(input_dim=100, output_dim = 4, weights = [np.random.normal(0,1,size=(100,4))],trainable = False)(inputs)\n",
    "model = Model(inputs=inputs,outputs=e)\n",
    "model.compile(optimizer = 'adam', loss='mse')\n",
    "print(model.predict(np.array([[4,8,3]])))"
   ]
  },
  {
   "cell_type": "code",
   "execution_count": 12,
   "metadata": {},
   "outputs": [
    {
     "name": "stdout",
     "output_type": "stream",
     "text": [
      "_________________________________________________________________\n",
      "Layer (type)                 Output Shape              Param #   \n",
      "=================================================================\n",
      "input_3 (InputLayer)         (None, 3)                 0         \n",
      "_________________________________________________________________\n",
      "embedding_3 (Embedding)      (None, 3, 4)              400       \n",
      "=================================================================\n",
      "Total params: 400\n",
      "Trainable params: 0\n",
      "Non-trainable params: 400\n",
      "_________________________________________________________________\n"
     ]
    }
   ],
   "source": [
    "model.summary()"
   ]
  },
  {
   "cell_type": "code",
   "execution_count": null,
   "metadata": {},
   "outputs": [],
   "source": []
  }
 ],
 "metadata": {
  "kernelspec": {
   "display_name": "Python 2",
   "language": "python",
   "name": "python2"
  },
  "language_info": {
   "codemirror_mode": {
    "name": "ipython",
    "version": 2
   },
   "file_extension": ".py",
   "mimetype": "text/x-python",
   "name": "python",
   "nbconvert_exporter": "python",
   "pygments_lexer": "ipython2",
   "version": "2.7.15+"
  }
 },
 "nbformat": 4,
 "nbformat_minor": 2
}
