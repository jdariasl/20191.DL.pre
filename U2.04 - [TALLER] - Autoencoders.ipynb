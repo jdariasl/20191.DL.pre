{
 "cells": [
  {
   "cell_type": "markdown",
   "metadata": {},
   "source": [
    "## Autoencoders and PCA\n",
    "\n",
    "**Principal Component Analysis** is a specific kind of dimensionality reduction technique. Review [this example](https://scikit-learn.org/stable/auto_examples/decomposition/plot_pca_iris.html) to get acquainted with PCA as implemented by `scikit-learn`.\n",
    "\n",
    "\n",
    "**Linear Autoencoders** are strongly related to PCA. See the notes [here](https://medium.com/analytics-vidhya/journey-from-principle-component-analysis-to-autoencoders-e60d066f191a) and [here](https://www.cs.toronto.edu/~urtasun/courses/CSC411/14_pca.pdf). In some way, an autoencoder can be viewed as a generalization of PCA when using other activation functions and deeper architectures.\n",
    "\n",
    "\n",
    "In this lab **you will have to do two things**:\n",
    "\n",
    "- Explain in your own terms (and math) why PCAs are so strongly related to a Linear Autoencoder. Include a reasoning of why _linear_ and not other kind of autoencoder.\n",
    "\n",
    "- Build an example with actual data showing this equivalence. You may use the dataset of **eigenfaces** referred two in the noted linked above, or another dataset of your choice.\n",
    "\n"
   ]
  },
  {
   "cell_type": "code",
   "execution_count": null,
   "metadata": {},
   "outputs": [],
   "source": []
  }
 ],
 "metadata": {
  "kernelspec": {
   "display_name": "p37",
   "language": "python",
   "name": "python3"
  },
  "language_info": {
   "codemirror_mode": {
    "name": "ipython",
    "version": 2
   },
   "file_extension": ".py",
   "mimetype": "text/x-python",
   "name": "python",
   "nbconvert_exporter": "python",
   "pygments_lexer": "ipython2",
   "version": "2.7.15"
  }
 },
 "nbformat": 4,
 "nbformat_minor": 2
}
