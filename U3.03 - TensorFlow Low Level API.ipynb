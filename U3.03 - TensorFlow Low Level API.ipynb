{
 "cells": [
  {
   "cell_type": "code",
   "execution_count": 3,
   "metadata": {},
   "outputs": [
    {
     "name": "stdout",
     "output_type": "stream",
     "text": [
      "1.13.1\n"
     ]
    }
   ],
   "source": [
    "import tensorflow as tf\n",
    "import numpy as np\n",
    "import matplotlib.pyplot as plt\n",
    "%matplotlib inline\n",
    "import pandas as pd\n",
    "print (tf.__version__)"
   ]
  },
  {
   "cell_type": "markdown",
   "metadata": {},
   "source": [
    "# Fundamentos de TensorFlow\n",
    "\n",
    "**Expresiones**\n",
    "- Las expresiones son construidas en términos de **variables** (para los parémetros, como $\\theta$) y **placeholders** (para los datos)\n",
    "\n",
    "- Cuando definimos las expresiones **construimos su grafo simbólico**, pero **no son evaluadas**\n",
    "\n",
    "- Las expresiones sólo son evaluadas **dentro de una sesión**\n",
    "\n",
    "- El proceso de **optimización** trata de encontrar valores de las **variables** que minimizan una cierta expresión. \n",
    "\n",
    "\n",
    "**Parámetros**\n",
    "- Las **variables** tienen un tamaño fijo, contienen los parámetros de un modelos, que luego pueden ser salvados o restaurados.\n",
    "\n",
    "- Las **variables** pueden tener un valor constante, pero normalmente se inicializan con algún valor aleatorio o determinado, y su contenido va variando durante el proceso de optimización.\n",
    "\n",
    "**Datos**\n",
    "- Los **placeholders** pueden ser matrices (tensores) con un número fijo de columnas, pero variable de filas, para poder evaluar las expresiones con distintos datasets.\n",
    "\n",
    "- Los **placeholders** no tienen valores iniciales, y hay que alimentarlos directamente con los datos\n",
    "\n",
    "\n",
    "\n",
    "**Gradientes**\n",
    "\n",
    "- TensorFlow calcula automáticamente los gradientes de las expresiones, que los obtiene simbólicamente. Normalmente los gradientes se calculan **respecto a los parámetros** (_placeholders_)"
   ]
  },
  {
   "cell_type": "markdown",
   "metadata": {},
   "source": [
    "## TensorFlow: cálculo simbólico para ML\n",
    "\n",
    "fíjate cómo en TF se define un grafo (simbólico) y luego se le inyectan valores para evaluarlo\n"
   ]
  },
  {
   "cell_type": "code",
   "execution_count": 4,
   "metadata": {},
   "outputs": [
    {
     "name": "stdout",
     "output_type": "stream",
     "text": [
      "WARNING:tensorflow:From /home/user/.conda/envs/p37/lib/python3.7/site-packages/tensorflow/python/framework/op_def_library.py:263: colocate_with (from tensorflow.python.framework.ops) is deprecated and will be removed in a future version.\n",
      "Instructions for updating:\n",
      "Colocations handled automatically by placer.\n"
     ]
    },
    {
     "data": {
      "text/plain": [
       "<tf.Tensor 'add:0' shape=(1,) dtype=float32>"
      ]
     },
     "execution_count": 4,
     "metadata": {},
     "output_type": "execute_result"
    }
   ],
   "source": [
    "tf.reset_default_graph()\n",
    "x = tf.Variable(initial_value=tf.random_normal([1]), name=\"x\", dtype=tf.float32)\n",
    "y = tf.Variable(initial_value=tf.random_normal([1]), name=\"y\", dtype=tf.float32)\n",
    "f = x**2+y**2\n",
    "f"
   ]
  },
  {
   "cell_type": "code",
   "execution_count": 5,
   "metadata": {},
   "outputs": [],
   "source": [
    "dx = tf.gradients(f, x)\n",
    "dy = tf.gradients(f, y)\n"
   ]
  },
  {
   "cell_type": "code",
   "execution_count": 7,
   "metadata": {},
   "outputs": [
    {
     "name": "stdout",
     "output_type": "stream",
     "text": [
      " f(5,2) = 29\n",
      "dx(5,2) = 10\n",
      "dy(5,2) = 4\n"
     ]
    }
   ],
   "source": [
    "val_x, val_y = 5, 2\n",
    "with tf.Session() as sess:\n",
    "    val_f, val_dx, val_dy = sess.run([f, dx, dy], feed_dict={x: [val_x], y:[val_y]})\n",
    "print(\" f(%d,%d) = %d\"%(val_x, val_y, val_f))\n",
    "print(\"dx(%d,%d) = %d\"%(val_x, val_y, val_dx[0]))\n",
    "print(\"dy(%d,%d) = %d\"%(val_x, val_y, val_dy[0]))"
   ]
  },
  {
   "cell_type": "code",
   "execution_count": 8,
   "metadata": {},
   "outputs": [],
   "source": [
    "!rm -rf tmp\n",
    "with tf.Session() as sess:\n",
    "    writer = tf.summary.FileWriter(\"tmp\", sess.graph)\n"
   ]
  },
  {
   "cell_type": "markdown",
   "metadata": {},
   "source": [
    "run\n",
    "\n",
    "     tensorboard --logdir tmp\n",
    "    \n",
    "from the command line and open [localhost:6006](http://localhost:6006) to inspect the **computational graph** represeting the previous expression"
   ]
  },
  {
   "cell_type": "markdown",
   "metadata": {},
   "source": [
    "## Single Layer Perceptron\n",
    "\n",
    "$$\\hat{y} = \\text{sigmoid}(\\mathbf{W}_2 \\cdot \\tanh(\\mathbf{x^T} \\cdot \\mathbf{W}_1 + \\mathbf{b}_1) + b_2)$$\n",
    "\n",
    "$$J(\\mathbf{b}_1, b_2, \\mathbf{W}_1, \\mathbf{W}_2) = \\frac{1}{m}\\sum_{i=0}^{m-1} (\\hat{y}-y)^2 $$\n"
   ]
  },
  {
   "cell_type": "code",
   "execution_count": 9,
   "metadata": {},
   "outputs": [
    {
     "data": {
      "image/png": "[encoded data removed]",
      "text/plain": [
       "<Figure size 432x288 with 1 Axes>"
      ]
     },
     "metadata": {
      "needs_background": "light"
     },
     "output_type": "display_data"
    }
   ],
   "source": [
    "from sklearn.datasets import make_moons\n",
    "import mlutils\n",
    "X,y = make_moons(200,noise=.4)\n",
    "mlutils.plot_2Ddata(X,y)"
   ]
  },
  {
   "cell_type": "markdown",
   "metadata": {},
   "source": [
    "### Input parameters"
   ]
  },
  {
   "cell_type": "code",
   "execution_count": 10,
   "metadata": {},
   "outputs": [],
   "source": [
    "input_units  = 2\n",
    "h_units      = 5\n",
    "output_units = 1"
   ]
  },
  {
   "cell_type": "code",
   "execution_count": null,
   "metadata": {},
   "outputs": [],
   "source": []
  },
  {
   "cell_type": "markdown",
   "metadata": {},
   "source": [
    "### Computational graph"
   ]
  },
  {
   "cell_type": "code",
   "execution_count": 12,
   "metadata": {},
   "outputs": [],
   "source": [
    "def get_graph():\n",
    "    tf.reset_default_graph()\n",
    "\n",
    "    # symbolic vars for model parameters\n",
    "    tW1 = tf.Variable(initial_value=tf.random_uniform([input_units, h_units], \n",
    "                                                      dtype=tf.float64), name=\"W1\", dtype=tf.float64)\n",
    "    tb1 = tf.Variable(initial_value=tf.random_uniform([h_units], \n",
    "                                                      dtype=tf.float64), name=\"b1\", dtype=tf.float64)\n",
    "    tW2 = tf.Variable(initial_value=tf.random_uniform([h_units, output_units], \n",
    "                                                      dtype=tf.float64), name=\"W2\", dtype=tf.float64)\n",
    "    tb2 = tf.Variable(initial_value=tf.random_uniform([output_units], \n",
    "                                                      dtype=tf.float64), name=\"b2\", dtype=tf.float64)\n",
    "\n",
    "    # symbolic vars for data\n",
    "    tX = tf.placeholder(name=\"X\", dtype=tf.float64, shape = (None, input_units))\n",
    "    ty = tf.placeholder(name=\"y\", dtype=tf.float64, shape = (None, output_units))\n",
    "\n",
    "\n",
    "    y_hat = tf.sigmoid(tf.matmul(tf.tanh(tf.matmul(tX,tW1)+tb1), tW2) + tb2)\n",
    "    loss = tf.reduce_mean(tf.pow((y_hat - ty),2))             \n",
    "\n",
    "    init = tf.global_variables_initializer()\n",
    "\n",
    "    optimizer_step = tf.train.GradientDescentOptimizer(.5).minimize(loss)\n",
    "\n",
    "    \n",
    "    print(tW1.shape)\n",
    "    print(tW2.shape)\n",
    "    print(tb1.shape)\n",
    "    print(tb2.shape)\n",
    "    \n",
    "    return tW1, tb1, tW2, tb2, tX, ty, y_hat, loss, init, optimizer_step"
   ]
  },
  {
   "cell_type": "code",
   "execution_count": 13,
   "metadata": {},
   "outputs": [
    {
     "name": "stdout",
     "output_type": "stream",
     "text": [
      "(2, 5)\n",
      "(5, 1)\n",
      "(5,)\n",
      "(1,)\n"
     ]
    }
   ],
   "source": [
    "tW1, tb1, tW2, tb2, tX, ty, y_hat, loss, init,optimizer_step = get_graph()"
   ]
  },
  {
   "cell_type": "markdown",
   "metadata": {},
   "source": [
    "### Optimization\n",
    "\n",
    "- observe how data is shuffled at every epoch"
   ]
  },
  {
   "cell_type": "code",
   "execution_count": 15,
   "metadata": {},
   "outputs": [
    {
     "name": "stderr",
     "output_type": "stream",
     "text": [
      "100% (2999 of 2999) |####################| Elapsed Time: 0:00:01 Time:  0:00:01\n"
     ]
    }
   ],
   "source": [
    "loss_hist = []\n",
    "n_epochs   = 3000\n",
    "\n",
    "with tf.Session() as sess:\n",
    "    sess.run(init)\n",
    "    \n",
    "    for i in mlutils.pbar()(range(1,n_epochs)):\n",
    "        # parameter update\n",
    "        idxs = np.random.permutation(len(X))\n",
    "        _, _loss = sess.run([optimizer_step, loss], feed_dict={tX: X[idxs], ty: y[idxs].reshape(-1,1)})\n",
    "        loss_hist.append(_loss)\n",
    "        \n",
    "    val_W1, val_W2, val_b1, val_b2 = sess.run([tW1, tW2, tb1, tb2])"
   ]
  },
  {
   "cell_type": "code",
   "execution_count": 16,
   "metadata": {},
   "outputs": [
    {
     "data": {
      "text/plain": [
       "[<matplotlib.lines.Line2D at 0x7fa8092be470>]"
      ]
     },
     "execution_count": 16,
     "metadata": {},
     "output_type": "execute_result"
    },
    {
     "data": {
      "image/png": "[encoded data removed]",
      "text/plain": [
       "<Figure size 432x288 with 1 Axes>"
      ]
     },
     "metadata": {
      "needs_background": "light"
     },
     "output_type": "display_data"
    }
   ],
   "source": [
    "plt.plot(loss_hist)"
   ]
  },
  {
   "cell_type": "markdown",
   "metadata": {},
   "source": [
    "### Prediction"
   ]
  },
  {
   "cell_type": "code",
   "execution_count": 17,
   "metadata": {},
   "outputs": [],
   "source": [
    "def predict(X):\n",
    "    with tf.Session() as sess:\n",
    "        preds = sess.run(y_hat, feed_dict={tX: X,  \n",
    "                                           tW1: val_W1, tW2: val_W2, tb1: val_b1, tb2: val_b2})\n",
    "    return (preds[:,0]>.5).astype(int)"
   ]
  },
  {
   "cell_type": "code",
   "execution_count": 18,
   "metadata": {},
   "outputs": [
    {
     "data": {
      "text/plain": [
       "(0.50955, 0.49045)"
      ]
     },
     "execution_count": 18,
     "metadata": {},
     "output_type": "execute_result"
    },
    {
     "data": {
      "image/png": "[encoded data removed]",
      "text/plain": [
       "<Figure size 432x288 with 1 Axes>"
      ]
     },
     "metadata": {
      "needs_background": "light"
     },
     "output_type": "display_data"
    }
   ],
   "source": [
    "mlutils.plot_2Ddata_with_boundary(predict, X, y)"
   ]
  },
  {
   "cell_type": "markdown",
   "metadata": {},
   "source": [
    "\n",
    "### Batch optimization\n",
    "\n",
    "observe how:\n",
    "\n",
    "- training data is partitioned in batches\n",
    "- the optimization step is called several times during each epoch\n",
    "- the number of epochs is reduces proportionally\n",
    "- the number of calls to the optimization step is the same\n",
    "- data is shuffled at every epoch\n",
    "- the process is more stochastic\n",
    "- at each epoch the only one **loss** metric is averaged over the loss obtained by all batches. \n",
    "\n",
    "you will appreciate the advantage of batch optimization in the corresponding lab"
   ]
  },
  {
   "cell_type": "code",
   "execution_count": 19,
   "metadata": {},
   "outputs": [
    {
     "name": "stdout",
     "output_type": "stream",
     "text": [
      "(2, 5)\n",
      "(5, 1)\n",
      "(5,)\n",
      "(1,)\n"
     ]
    }
   ],
   "source": [
    "tW1, tb1, tW2, tb2, tX, ty, y_hat, loss, init,optimizer_step = get_graph()"
   ]
  },
  {
   "cell_type": "code",
   "execution_count": 20,
   "metadata": {},
   "outputs": [
    {
     "name": "stderr",
     "output_type": "stream",
     "text": [
      "100% (150 of 150) |######################| Elapsed Time: 0:00:00 Time:  0:00:00\n"
     ]
    }
   ],
   "source": [
    "batch_size = 10\n",
    "num_examples = len(X)\n",
    "bloss_hist = []\n",
    "c=0\n",
    "with tf.Session() as sess:\n",
    "    sess.run(init)\n",
    "    for epoch in mlutils.pbar()(range(1,n_epochs*batch_size//num_examples+1)):\n",
    "        idxs = np.random.permutation(len(X))\n",
    "        eloss = []\n",
    "        for iteration in range(num_examples // batch_size):\n",
    "            X_batch = X[idxs][iteration*batch_size:iteration*batch_size+batch_size]\n",
    "            y_batch = y[idxs][iteration*batch_size:iteration*batch_size+batch_size]\n",
    "            _, _loss = sess.run([optimizer_step, loss], feed_dict={tX: X_batch, ty: y_batch.reshape(-1,1)})\n",
    "            eloss += [_loss]\n",
    "            c+=1\n",
    "        bloss_hist += [np.mean(eloss)]\n",
    "       "
   ]
  },
  {
   "cell_type": "code",
   "execution_count": 21,
   "metadata": {},
   "outputs": [
    {
     "data": {
      "image/png": "[encoded data removed]",
      "text/plain": [
       "<Figure size 432x288 with 1 Axes>"
      ]
     },
     "metadata": {
      "needs_background": "light"
     },
     "output_type": "display_data"
    }
   ],
   "source": [
    "plt.plot(loss_hist, label=\"no batches\")\n",
    "plt.plot(np.arange(len(bloss_hist))*num_examples // batch_size, bloss_hist, label=\"with batches\")\n",
    "plt.legend();\n",
    "plt.grid();"
   ]
  },
  {
   "cell_type": "code",
   "execution_count": 22,
   "metadata": {},
   "outputs": [
    {
     "data": {
      "text/plain": [
       "(0.50955, 0.49045)"
      ]
     },
     "execution_count": 22,
     "metadata": {},
     "output_type": "execute_result"
    },
    {
     "data": {
      "image/png": "[encoded data removed]",
      "text/plain": [
       "<Figure size 432x288 with 1 Axes>"
      ]
     },
     "metadata": {
      "needs_background": "light"
     },
     "output_type": "display_data"
    }
   ],
   "source": [
    "mlutils.plot_2Ddata_with_boundary(predict, X, y)"
   ]
  },
  {
   "cell_type": "code",
   "execution_count": null,
   "metadata": {},
   "outputs": [],
   "source": []
  },
  {
   "cell_type": "code",
   "execution_count": null,
   "metadata": {},
   "outputs": [],
   "source": []
  }
 ],
 "metadata": {
  "kernelspec": {
   "display_name": "p37",
   "language": "python",
   "name": "python3"
  }
 },
 "nbformat": 4,
 "nbformat_minor": 2
}
